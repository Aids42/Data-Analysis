{
  "nbformat": 4,
  "nbformat_minor": 0,
  "metadata": {
    "colab": {
      "provenance": [],
      "mount_file_id": "1v6Cb3qMeIUvzbuIsrAy0wLfFDU_-HX7D",
      "authorship_tag": "ABX9TyOAH10dhz8qhJ562/Gb5j7C",
      "include_colab_link": true
    },
    "kernelspec": {
      "name": "python3",
      "display_name": "Python 3"
    },
    "language_info": {
      "name": "python"
    },
    "gpuClass": "standard"
  },
  "cells": [
    {
      "cell_type": "markdown",
      "metadata": {
        "id": "view-in-github",
        "colab_type": "text"
      },
      "source": [
        "<a href=\"https://colab.research.google.com/github/Aids42/Data-Analysis/blob/master/Melburn_housing.ipynb\" target=\"_parent\"><img src=\"https://colab.research.google.com/assets/colab-badge.svg\" alt=\"Open In Colab\"/></a>"
      ]
    },
    {
      "cell_type": "markdown",
      "source": [
        "# Подготовка данных к работе"
      ],
      "metadata": {
        "id": "7Q_SxFf8hGDI"
      }
    },
    {
      "cell_type": "markdown",
      "source": [
        "Ссылка на датасет \n",
        "\n",
        "https://drive.google.com/file/d/1vSzvhBrJ7qBJFCaWRG3yP5_IuArIV6gF/view?usp=share_link"
      ],
      "metadata": {
        "id": "4zWvhYTeSUdy"
      }
    },
    {
      "cell_type": "code",
      "source": [
        "! gdown 1vSzvhBrJ7qBJFCaWRG3yP5_IuArIV6gF\n"
      ],
      "metadata": {
        "colab": {
          "base_uri": "https://localhost:8080/"
        },
        "id": "UNHTi4VaSXJq",
        "outputId": "d2daa118-ed18-473f-b1f4-07f71511b073"
      },
      "execution_count": 50,
      "outputs": [
        {
          "output_type": "stream",
          "name": "stdout",
          "text": [
            "Downloading...\n",
            "From: https://drive.google.com/uc?id=1vSzvhBrJ7qBJFCaWRG3yP5_IuArIV6gF\n",
            "To: /content/leopard-challenge-regression.zip\n",
            "\r  0% 0.00/1.00M [00:00<?, ?B/s]\r100% 1.00M/1.00M [00:00<00:00, 150MB/s]\n"
          ]
        }
      ]
    },
    {
      "cell_type": "code",
      "source": [
        "! unzip -o /content/leopard-challenge-regression.zip -d /content/drive/MyDrive/DS_train/leopard_regression"
      ],
      "metadata": {
        "colab": {
          "base_uri": "https://localhost:8080/"
        },
        "id": "hPp0hV4MSnDf",
        "outputId": "d22d7770-444f-4c30-cd8e-5fad8f2c21eb"
      },
      "execution_count": 51,
      "outputs": [
        {
          "output_type": "stream",
          "name": "stdout",
          "text": [
            "Archive:  /content/leopard-challenge-regression.zip\n",
            "  inflating: /content/drive/MyDrive/DS_train/leopard_regression/sample_submission.csv  \n",
            "  inflating: /content/drive/MyDrive/DS_train/leopard_regression/test.csv  \n",
            "  inflating: /content/drive/MyDrive/DS_train/leopard_regression/train.csv  \n"
          ]
        }
      ]
    },
    {
      "cell_type": "code",
      "source": [
        "! pip install catboost"
      ],
      "metadata": {
        "colab": {
          "base_uri": "https://localhost:8080/"
        },
        "id": "xm-FRb_ZTmif",
        "outputId": "c083b636-c59c-4abb-a3f4-9e639d183db7"
      },
      "execution_count": 52,
      "outputs": [
        {
          "output_type": "stream",
          "name": "stdout",
          "text": [
            "Looking in indexes: https://pypi.org/simple, https://us-python.pkg.dev/colab-wheels/public/simple/\n",
            "Requirement already satisfied: catboost in /usr/local/lib/python3.8/dist-packages (1.1.1)\n",
            "Requirement already satisfied: plotly in /usr/local/lib/python3.8/dist-packages (from catboost) (5.5.0)\n",
            "Requirement already satisfied: six in /usr/local/lib/python3.8/dist-packages (from catboost) (1.15.0)\n",
            "Requirement already satisfied: pandas>=0.24.0 in /usr/local/lib/python3.8/dist-packages (from catboost) (1.3.5)\n",
            "Requirement already satisfied: numpy>=1.16.0 in /usr/local/lib/python3.8/dist-packages (from catboost) (1.21.6)\n",
            "Requirement already satisfied: scipy in /usr/local/lib/python3.8/dist-packages (from catboost) (1.7.3)\n",
            "Requirement already satisfied: matplotlib in /usr/local/lib/python3.8/dist-packages (from catboost) (3.2.2)\n",
            "Requirement already satisfied: graphviz in /usr/local/lib/python3.8/dist-packages (from catboost) (0.10.1)\n",
            "Requirement already satisfied: pytz>=2017.3 in /usr/local/lib/python3.8/dist-packages (from pandas>=0.24.0->catboost) (2022.7.1)\n",
            "Requirement already satisfied: python-dateutil>=2.7.3 in /usr/local/lib/python3.8/dist-packages (from pandas>=0.24.0->catboost) (2.8.2)\n",
            "Requirement already satisfied: pyparsing!=2.0.4,!=2.1.2,!=2.1.6,>=2.0.1 in /usr/local/lib/python3.8/dist-packages (from matplotlib->catboost) (3.0.9)\n",
            "Requirement already satisfied: kiwisolver>=1.0.1 in /usr/local/lib/python3.8/dist-packages (from matplotlib->catboost) (1.4.4)\n",
            "Requirement already satisfied: cycler>=0.10 in /usr/local/lib/python3.8/dist-packages (from matplotlib->catboost) (0.11.0)\n",
            "Requirement already satisfied: tenacity>=6.2.0 in /usr/local/lib/python3.8/dist-packages (from plotly->catboost) (8.2.0)\n"
          ]
        }
      ]
    },
    {
      "cell_type": "markdown",
      "source": [
        "# Предпросмотр данных"
      ],
      "metadata": {
        "id": "vn45AXhyj3IL"
      }
    },
    {
      "cell_type": "code",
      "source": [
        "import pandas as pd\n",
        "import numpy as np\n",
        "\n",
        "from sklearn.model_selection import train_test_split, GridSearchCV\n",
        "\n",
        "from catboost import CatBoostRegressor\n",
        "\n",
        "from catboost import cv"
      ],
      "metadata": {
        "id": "fyXnJJhXiELP"
      },
      "execution_count": 53,
      "outputs": []
    },
    {
      "cell_type": "code",
      "source": [
        "data = pd.read_csv('/content/drive/MyDrive/DS_train/leopard_regression/train.csv')"
      ],
      "metadata": {
        "id": "3bNP8aIcVQE7"
      },
      "execution_count": 54,
      "outputs": []
    },
    {
      "cell_type": "code",
      "source": [
        "data.head()"
      ],
      "metadata": {
        "colab": {
          "base_uri": "https://localhost:8080/",
          "height": 392
        },
        "id": "Elujk0PXYr6C",
        "outputId": "43a6c9ca-ba0a-4e4f-d1f3-f71a39948f57"
      },
      "execution_count": 55,
      "outputs": [
        {
          "output_type": "execute_result",
          "data": {
            "text/plain": [
              "       Suburb           Address  Rooms Type      Price Method SellerG  \\\n",
              "0  Abbotsford      85 Turner St      2    h  1480000.0      S  Biggin   \n",
              "1  Abbotsford   25 Bloomburg St      2    h  1035000.0      S  Biggin   \n",
              "2  Abbotsford      5 Charles St      3    h  1465000.0     SP  Biggin   \n",
              "3  Abbotsford  40 Federation La      3    h   850000.0     PI  Biggin   \n",
              "4  Abbotsford       55a Park St      4    h  1600000.0     VB  Nelson   \n",
              "\n",
              "        Date  Distance  Postcode  Bedroom2  Bathroom  Car  Landsize  \\\n",
              "0  3/12/2016       2.5    3067.0       2.0       1.0  1.0     202.0   \n",
              "1  4/02/2016       2.5    3067.0       2.0       1.0  0.0     156.0   \n",
              "2  4/03/2017       2.5    3067.0       3.0       2.0  0.0     134.0   \n",
              "3  4/03/2017       2.5    3067.0       3.0       2.0  1.0      94.0   \n",
              "4  4/06/2016       2.5    3067.0       3.0       1.0  2.0     120.0   \n",
              "\n",
              "   BuildingArea  YearBuilt         CouncilArea  Lattitude  Longtitude  \\\n",
              "0           NaN        NaN  Yarra City Council   -37.7996    144.9984   \n",
              "1          79.0     1900.0  Yarra City Council   -37.8079    144.9934   \n",
              "2         150.0     1900.0  Yarra City Council   -37.8093    144.9944   \n",
              "3           NaN        NaN  Yarra City Council   -37.7969    144.9969   \n",
              "4         142.0     2014.0  Yarra City Council   -37.8072    144.9941   \n",
              "\n",
              "              Regionname  Propertycount     id  \n",
              "0  Northern Metropolitan         4019.0  34302  \n",
              "1  Northern Metropolitan         4019.0  33247  \n",
              "2  Northern Metropolitan         4019.0  31886  \n",
              "3  Northern Metropolitan         4019.0  18999  \n",
              "4  Northern Metropolitan         4019.0  16809  "
            ],
            "text/html": [
              "\n",
              "  <div id=\"df-a93f787d-3d02-4596-8ca0-a302480cb60d\">\n",
              "    <div class=\"colab-df-container\">\n",
              "      <div>\n",
              "<style scoped>\n",
              "    .dataframe tbody tr th:only-of-type {\n",
              "        vertical-align: middle;\n",
              "    }\n",
              "\n",
              "    .dataframe tbody tr th {\n",
              "        vertical-align: top;\n",
              "    }\n",
              "\n",
              "    .dataframe thead th {\n",
              "        text-align: right;\n",
              "    }\n",
              "</style>\n",
              "<table border=\"1\" class=\"dataframe\">\n",
              "  <thead>\n",
              "    <tr style=\"text-align: right;\">\n",
              "      <th></th>\n",
              "      <th>Suburb</th>\n",
              "      <th>Address</th>\n",
              "      <th>Rooms</th>\n",
              "      <th>Type</th>\n",
              "      <th>Price</th>\n",
              "      <th>Method</th>\n",
              "      <th>SellerG</th>\n",
              "      <th>Date</th>\n",
              "      <th>Distance</th>\n",
              "      <th>Postcode</th>\n",
              "      <th>Bedroom2</th>\n",
              "      <th>Bathroom</th>\n",
              "      <th>Car</th>\n",
              "      <th>Landsize</th>\n",
              "      <th>BuildingArea</th>\n",
              "      <th>YearBuilt</th>\n",
              "      <th>CouncilArea</th>\n",
              "      <th>Lattitude</th>\n",
              "      <th>Longtitude</th>\n",
              "      <th>Regionname</th>\n",
              "      <th>Propertycount</th>\n",
              "      <th>id</th>\n",
              "    </tr>\n",
              "  </thead>\n",
              "  <tbody>\n",
              "    <tr>\n",
              "      <th>0</th>\n",
              "      <td>Abbotsford</td>\n",
              "      <td>85 Turner St</td>\n",
              "      <td>2</td>\n",
              "      <td>h</td>\n",
              "      <td>1480000.0</td>\n",
              "      <td>S</td>\n",
              "      <td>Biggin</td>\n",
              "      <td>3/12/2016</td>\n",
              "      <td>2.5</td>\n",
              "      <td>3067.0</td>\n",
              "      <td>2.0</td>\n",
              "      <td>1.0</td>\n",
              "      <td>1.0</td>\n",
              "      <td>202.0</td>\n",
              "      <td>NaN</td>\n",
              "      <td>NaN</td>\n",
              "      <td>Yarra City Council</td>\n",
              "      <td>-37.7996</td>\n",
              "      <td>144.9984</td>\n",
              "      <td>Northern Metropolitan</td>\n",
              "      <td>4019.0</td>\n",
              "      <td>34302</td>\n",
              "    </tr>\n",
              "    <tr>\n",
              "      <th>1</th>\n",
              "      <td>Abbotsford</td>\n",
              "      <td>25 Bloomburg St</td>\n",
              "      <td>2</td>\n",
              "      <td>h</td>\n",
              "      <td>1035000.0</td>\n",
              "      <td>S</td>\n",
              "      <td>Biggin</td>\n",
              "      <td>4/02/2016</td>\n",
              "      <td>2.5</td>\n",
              "      <td>3067.0</td>\n",
              "      <td>2.0</td>\n",
              "      <td>1.0</td>\n",
              "      <td>0.0</td>\n",
              "      <td>156.0</td>\n",
              "      <td>79.0</td>\n",
              "      <td>1900.0</td>\n",
              "      <td>Yarra City Council</td>\n",
              "      <td>-37.8079</td>\n",
              "      <td>144.9934</td>\n",
              "      <td>Northern Metropolitan</td>\n",
              "      <td>4019.0</td>\n",
              "      <td>33247</td>\n",
              "    </tr>\n",
              "    <tr>\n",
              "      <th>2</th>\n",
              "      <td>Abbotsford</td>\n",
              "      <td>5 Charles St</td>\n",
              "      <td>3</td>\n",
              "      <td>h</td>\n",
              "      <td>1465000.0</td>\n",
              "      <td>SP</td>\n",
              "      <td>Biggin</td>\n",
              "      <td>4/03/2017</td>\n",
              "      <td>2.5</td>\n",
              "      <td>3067.0</td>\n",
              "      <td>3.0</td>\n",
              "      <td>2.0</td>\n",
              "      <td>0.0</td>\n",
              "      <td>134.0</td>\n",
              "      <td>150.0</td>\n",
              "      <td>1900.0</td>\n",
              "      <td>Yarra City Council</td>\n",
              "      <td>-37.8093</td>\n",
              "      <td>144.9944</td>\n",
              "      <td>Northern Metropolitan</td>\n",
              "      <td>4019.0</td>\n",
              "      <td>31886</td>\n",
              "    </tr>\n",
              "    <tr>\n",
              "      <th>3</th>\n",
              "      <td>Abbotsford</td>\n",
              "      <td>40 Federation La</td>\n",
              "      <td>3</td>\n",
              "      <td>h</td>\n",
              "      <td>850000.0</td>\n",
              "      <td>PI</td>\n",
              "      <td>Biggin</td>\n",
              "      <td>4/03/2017</td>\n",
              "      <td>2.5</td>\n",
              "      <td>3067.0</td>\n",
              "      <td>3.0</td>\n",
              "      <td>2.0</td>\n",
              "      <td>1.0</td>\n",
              "      <td>94.0</td>\n",
              "      <td>NaN</td>\n",
              "      <td>NaN</td>\n",
              "      <td>Yarra City Council</td>\n",
              "      <td>-37.7969</td>\n",
              "      <td>144.9969</td>\n",
              "      <td>Northern Metropolitan</td>\n",
              "      <td>4019.0</td>\n",
              "      <td>18999</td>\n",
              "    </tr>\n",
              "    <tr>\n",
              "      <th>4</th>\n",
              "      <td>Abbotsford</td>\n",
              "      <td>55a Park St</td>\n",
              "      <td>4</td>\n",
              "      <td>h</td>\n",
              "      <td>1600000.0</td>\n",
              "      <td>VB</td>\n",
              "      <td>Nelson</td>\n",
              "      <td>4/06/2016</td>\n",
              "      <td>2.5</td>\n",
              "      <td>3067.0</td>\n",
              "      <td>3.0</td>\n",
              "      <td>1.0</td>\n",
              "      <td>2.0</td>\n",
              "      <td>120.0</td>\n",
              "      <td>142.0</td>\n",
              "      <td>2014.0</td>\n",
              "      <td>Yarra City Council</td>\n",
              "      <td>-37.8072</td>\n",
              "      <td>144.9941</td>\n",
              "      <td>Northern Metropolitan</td>\n",
              "      <td>4019.0</td>\n",
              "      <td>16809</td>\n",
              "    </tr>\n",
              "  </tbody>\n",
              "</table>\n",
              "</div>\n",
              "      <button class=\"colab-df-convert\" onclick=\"convertToInteractive('df-a93f787d-3d02-4596-8ca0-a302480cb60d')\"\n",
              "              title=\"Convert this dataframe to an interactive table.\"\n",
              "              style=\"display:none;\">\n",
              "        \n",
              "  <svg xmlns=\"http://www.w3.org/2000/svg\" height=\"24px\"viewBox=\"0 0 24 24\"\n",
              "       width=\"24px\">\n",
              "    <path d=\"M0 0h24v24H0V0z\" fill=\"none\"/>\n",
              "    <path d=\"M18.56 5.44l.94 2.06.94-2.06 2.06-.94-2.06-.94-.94-2.06-.94 2.06-2.06.94zm-11 1L8.5 8.5l.94-2.06 2.06-.94-2.06-.94L8.5 2.5l-.94 2.06-2.06.94zm10 10l.94 2.06.94-2.06 2.06-.94-2.06-.94-.94-2.06-.94 2.06-2.06.94z\"/><path d=\"M17.41 7.96l-1.37-1.37c-.4-.4-.92-.59-1.43-.59-.52 0-1.04.2-1.43.59L10.3 9.45l-7.72 7.72c-.78.78-.78 2.05 0 2.83L4 21.41c.39.39.9.59 1.41.59.51 0 1.02-.2 1.41-.59l7.78-7.78 2.81-2.81c.8-.78.8-2.07 0-2.86zM5.41 20L4 18.59l7.72-7.72 1.47 1.35L5.41 20z\"/>\n",
              "  </svg>\n",
              "      </button>\n",
              "      \n",
              "  <style>\n",
              "    .colab-df-container {\n",
              "      display:flex;\n",
              "      flex-wrap:wrap;\n",
              "      gap: 12px;\n",
              "    }\n",
              "\n",
              "    .colab-df-convert {\n",
              "      background-color: #E8F0FE;\n",
              "      border: none;\n",
              "      border-radius: 50%;\n",
              "      cursor: pointer;\n",
              "      display: none;\n",
              "      fill: #1967D2;\n",
              "      height: 32px;\n",
              "      padding: 0 0 0 0;\n",
              "      width: 32px;\n",
              "    }\n",
              "\n",
              "    .colab-df-convert:hover {\n",
              "      background-color: #E2EBFA;\n",
              "      box-shadow: 0px 1px 2px rgba(60, 64, 67, 0.3), 0px 1px 3px 1px rgba(60, 64, 67, 0.15);\n",
              "      fill: #174EA6;\n",
              "    }\n",
              "\n",
              "    [theme=dark] .colab-df-convert {\n",
              "      background-color: #3B4455;\n",
              "      fill: #D2E3FC;\n",
              "    }\n",
              "\n",
              "    [theme=dark] .colab-df-convert:hover {\n",
              "      background-color: #434B5C;\n",
              "      box-shadow: 0px 1px 3px 1px rgba(0, 0, 0, 0.15);\n",
              "      filter: drop-shadow(0px 1px 2px rgba(0, 0, 0, 0.3));\n",
              "      fill: #FFFFFF;\n",
              "    }\n",
              "  </style>\n",
              "\n",
              "      <script>\n",
              "        const buttonEl =\n",
              "          document.querySelector('#df-a93f787d-3d02-4596-8ca0-a302480cb60d button.colab-df-convert');\n",
              "        buttonEl.style.display =\n",
              "          google.colab.kernel.accessAllowed ? 'block' : 'none';\n",
              "\n",
              "        async function convertToInteractive(key) {\n",
              "          const element = document.querySelector('#df-a93f787d-3d02-4596-8ca0-a302480cb60d');\n",
              "          const dataTable =\n",
              "            await google.colab.kernel.invokeFunction('convertToInteractive',\n",
              "                                                     [key], {});\n",
              "          if (!dataTable) return;\n",
              "\n",
              "          const docLinkHtml = 'Like what you see? Visit the ' +\n",
              "            '<a target=\"_blank\" href=https://colab.research.google.com/notebooks/data_table.ipynb>data table notebook</a>'\n",
              "            + ' to learn more about interactive tables.';\n",
              "          element.innerHTML = '';\n",
              "          dataTable['output_type'] = 'display_data';\n",
              "          await google.colab.output.renderOutput(dataTable, element);\n",
              "          const docLink = document.createElement('div');\n",
              "          docLink.innerHTML = docLinkHtml;\n",
              "          element.appendChild(docLink);\n",
              "        }\n",
              "      </script>\n",
              "    </div>\n",
              "  </div>\n",
              "  "
            ]
          },
          "metadata": {},
          "execution_count": 55
        }
      ]
    },
    {
      "cell_type": "markdown",
      "source": [
        "Описание столбцов (параметров объекта):  \n",
        "Suburb – Район  \n",
        "Address – адрес  \n",
        "Rooms – количество комнат\n",
        "\n",
        "Type – тип объекта  \n",
        "+ br - bedroom(s);  \n",
        "+ h - house,cottage,villa, semi,terrace;  \n",
        "+ u - unit, duplex;  \n",
        "+ t - townhouse;  \n",
        "+ dev site - development site;  \n",
        "+ o res - other residential. \n",
        "\n",
        "Price – цена объекта  \n",
        "\n",
        "Method – метод продажи объекта:  \n",
        "+ S - property sold;\n",
        "+ SP - property sold prior;\n",
        "+ PI - property passed in;\n",
        "+ PN - sold prior not disclosed;\n",
        "+ SN - sold not disclosed;\n",
        "+ NB - no bid;\n",
        "+ VB - vendor bid;\n",
        "+ W - withdrawn prior to auction;\n",
        "+ SA - sold after auction;\n",
        "+ SS - sold after auction price not disclosed.\n",
        "+ N/A - price or highest bid not available.\n",
        "\n",
        "SellerG – имя риэлтора  \n",
        "Date – дата продажи объекта  \n",
        "Distance – расстояние до центрального района в километрах  \n",
        "Postcode – почтовый индекс  \n",
        "Bedrooms2 – количество спален   \n",
        "Bathroom – количество ванных комнат   \n",
        "Car – количество парковочных мест  \n",
        "Landsize – площадь прилегающей территории   \n",
        "BuildingArea – площадь самого объекта  \n",
        "YearBuilt – год постройки  \n",
        "CouncilArea – округ  \n",
        "Lattitude – широта  \n",
        "Longtitude – долгота  \n",
        "Regionname – еще одно административное деление на подобие округа  \n",
        "Propertycount – не совсем ясно что, возможно количество объектов в округе  \n",
        "id – id объекта  \n"
      ],
      "metadata": {
        "id": "Tpgr47qUWOcV"
      }
    },
    {
      "cell_type": "code",
      "source": [
        "data.info()"
      ],
      "metadata": {
        "colab": {
          "base_uri": "https://localhost:8080/"
        },
        "id": "30S32kuFV8g6",
        "outputId": "0472a67d-453c-44f1-90c3-a76816b32fb7"
      },
      "execution_count": 56,
      "outputs": [
        {
          "output_type": "stream",
          "name": "stdout",
          "text": [
            "<class 'pandas.core.frame.DataFrame'>\n",
            "RangeIndex: 18373 entries, 0 to 18372\n",
            "Data columns (total 22 columns):\n",
            " #   Column         Non-Null Count  Dtype  \n",
            "---  ------         --------------  -----  \n",
            " 0   Suburb         18373 non-null  object \n",
            " 1   Address        18373 non-null  object \n",
            " 2   Rooms          18373 non-null  int64  \n",
            " 3   Type           18373 non-null  object \n",
            " 4   Price          18373 non-null  float64\n",
            " 5   Method         18373 non-null  object \n",
            " 6   SellerG        18373 non-null  object \n",
            " 7   Date           18373 non-null  object \n",
            " 8   Distance       18373 non-null  float64\n",
            " 9   Postcode       18373 non-null  float64\n",
            " 10  Bedroom2       14905 non-null  float64\n",
            " 11  Bathroom       14903 non-null  float64\n",
            " 12  Car            14798 non-null  float64\n",
            " 13  Landsize       13579 non-null  float64\n",
            " 14  BuildingArea   7750 non-null   float64\n",
            " 15  YearBuilt      8944 non-null   float64\n",
            " 16  CouncilArea    18372 non-null  object \n",
            " 17  Lattitude      15041 non-null  float64\n",
            " 18  Longtitude     15041 non-null  float64\n",
            " 19  Regionname     18372 non-null  object \n",
            " 20  Propertycount  18372 non-null  float64\n",
            " 21  id             18373 non-null  int64  \n",
            "dtypes: float64(12), int64(2), object(8)\n",
            "memory usage: 3.1+ MB\n"
          ]
        }
      ]
    },
    {
      "cell_type": "code",
      "source": [
        "pd.options.display.max_columns=50  # увеличил количество отображаемых колонок"
      ],
      "metadata": {
        "id": "emr0ngwEfOiG"
      },
      "execution_count": 57,
      "outputs": []
    },
    {
      "cell_type": "markdown",
      "source": [
        "## Для начала уберу колонки содержащие пустые ячейки и попробую получить результат без них, затем добавлю"
      ],
      "metadata": {
        "id": "gbPsKWenPSdi"
      }
    },
    {
      "cell_type": "code",
      "source": [
        "data[data['Address'].str.contains('Stafford') ] # вывел данные содержащие в адресе только Станффорд - потому что в этой строке очень много nan, больше чем в других (ну вот так, проверить)"
      ],
      "metadata": {
        "colab": {
          "base_uri": "https://localhost:8080/",
          "height": 312
        },
        "id": "ym7h3xcPbl9y",
        "outputId": "0bbf69b1-1f3c-453f-e204-da0af6d58b8f"
      },
      "execution_count": 58,
      "outputs": [
        {
          "output_type": "execute_result",
          "data": {
            "text/plain": [
              "           Suburb           Address  Rooms Type      Price Method SellerG  \\\n",
              "44     Abbotsford    60 Stafford St      3    h  1290000.0      S  Biggin   \n",
              "14406   Footscray  2/16 Stafford St      2    u   710000.0      S     Jas   \n",
              "16801  Abbotsford    67 Stafford St      3    h  1000000.0     PI  Biggin   \n",
              "\n",
              "             Date  Distance  Postcode  Bedroom2  Bathroom  Car  Landsize  \\\n",
              "44     25/02/2017       2.5    3067.0       3.0       1.0  1.0     168.0   \n",
              "14406  15/07/2017       5.1    3011.0       NaN       NaN  NaN       NaN   \n",
              "16801  19/08/2017       3.0    3067.0       3.0       1.0  2.0     196.0   \n",
              "\n",
              "       BuildingArea  YearBuilt         CouncilArea  Lattitude  Longtitude  \\\n",
              "44            124.0     1950.0  Yarra City Council  -37.80070   144.99580   \n",
              "14406           NaN        NaN                 NaN        NaN         NaN   \n",
              "16801           NaN     1900.0  Yarra City Council  -37.80094   144.99569   \n",
              "\n",
              "                  Regionname  Propertycount     id  \n",
              "44     Northern Metropolitan         4019.0   9116  \n",
              "14406                    NaN            NaN  21235  \n",
              "16801  Northern Metropolitan         4019.0   3449  "
            ],
            "text/html": [
              "\n",
              "  <div id=\"df-8518650b-bebf-44cd-843c-23cf2eaa97d1\">\n",
              "    <div class=\"colab-df-container\">\n",
              "      <div>\n",
              "<style scoped>\n",
              "    .dataframe tbody tr th:only-of-type {\n",
              "        vertical-align: middle;\n",
              "    }\n",
              "\n",
              "    .dataframe tbody tr th {\n",
              "        vertical-align: top;\n",
              "    }\n",
              "\n",
              "    .dataframe thead th {\n",
              "        text-align: right;\n",
              "    }\n",
              "</style>\n",
              "<table border=\"1\" class=\"dataframe\">\n",
              "  <thead>\n",
              "    <tr style=\"text-align: right;\">\n",
              "      <th></th>\n",
              "      <th>Suburb</th>\n",
              "      <th>Address</th>\n",
              "      <th>Rooms</th>\n",
              "      <th>Type</th>\n",
              "      <th>Price</th>\n",
              "      <th>Method</th>\n",
              "      <th>SellerG</th>\n",
              "      <th>Date</th>\n",
              "      <th>Distance</th>\n",
              "      <th>Postcode</th>\n",
              "      <th>Bedroom2</th>\n",
              "      <th>Bathroom</th>\n",
              "      <th>Car</th>\n",
              "      <th>Landsize</th>\n",
              "      <th>BuildingArea</th>\n",
              "      <th>YearBuilt</th>\n",
              "      <th>CouncilArea</th>\n",
              "      <th>Lattitude</th>\n",
              "      <th>Longtitude</th>\n",
              "      <th>Regionname</th>\n",
              "      <th>Propertycount</th>\n",
              "      <th>id</th>\n",
              "    </tr>\n",
              "  </thead>\n",
              "  <tbody>\n",
              "    <tr>\n",
              "      <th>44</th>\n",
              "      <td>Abbotsford</td>\n",
              "      <td>60 Stafford St</td>\n",
              "      <td>3</td>\n",
              "      <td>h</td>\n",
              "      <td>1290000.0</td>\n",
              "      <td>S</td>\n",
              "      <td>Biggin</td>\n",
              "      <td>25/02/2017</td>\n",
              "      <td>2.5</td>\n",
              "      <td>3067.0</td>\n",
              "      <td>3.0</td>\n",
              "      <td>1.0</td>\n",
              "      <td>1.0</td>\n",
              "      <td>168.0</td>\n",
              "      <td>124.0</td>\n",
              "      <td>1950.0</td>\n",
              "      <td>Yarra City Council</td>\n",
              "      <td>-37.80070</td>\n",
              "      <td>144.99580</td>\n",
              "      <td>Northern Metropolitan</td>\n",
              "      <td>4019.0</td>\n",
              "      <td>9116</td>\n",
              "    </tr>\n",
              "    <tr>\n",
              "      <th>14406</th>\n",
              "      <td>Footscray</td>\n",
              "      <td>2/16 Stafford St</td>\n",
              "      <td>2</td>\n",
              "      <td>u</td>\n",
              "      <td>710000.0</td>\n",
              "      <td>S</td>\n",
              "      <td>Jas</td>\n",
              "      <td>15/07/2017</td>\n",
              "      <td>5.1</td>\n",
              "      <td>3011.0</td>\n",
              "      <td>NaN</td>\n",
              "      <td>NaN</td>\n",
              "      <td>NaN</td>\n",
              "      <td>NaN</td>\n",
              "      <td>NaN</td>\n",
              "      <td>NaN</td>\n",
              "      <td>NaN</td>\n",
              "      <td>NaN</td>\n",
              "      <td>NaN</td>\n",
              "      <td>NaN</td>\n",
              "      <td>NaN</td>\n",
              "      <td>21235</td>\n",
              "    </tr>\n",
              "    <tr>\n",
              "      <th>16801</th>\n",
              "      <td>Abbotsford</td>\n",
              "      <td>67 Stafford St</td>\n",
              "      <td>3</td>\n",
              "      <td>h</td>\n",
              "      <td>1000000.0</td>\n",
              "      <td>PI</td>\n",
              "      <td>Biggin</td>\n",
              "      <td>19/08/2017</td>\n",
              "      <td>3.0</td>\n",
              "      <td>3067.0</td>\n",
              "      <td>3.0</td>\n",
              "      <td>1.0</td>\n",
              "      <td>2.0</td>\n",
              "      <td>196.0</td>\n",
              "      <td>NaN</td>\n",
              "      <td>1900.0</td>\n",
              "      <td>Yarra City Council</td>\n",
              "      <td>-37.80094</td>\n",
              "      <td>144.99569</td>\n",
              "      <td>Northern Metropolitan</td>\n",
              "      <td>4019.0</td>\n",
              "      <td>3449</td>\n",
              "    </tr>\n",
              "  </tbody>\n",
              "</table>\n",
              "</div>\n",
              "      <button class=\"colab-df-convert\" onclick=\"convertToInteractive('df-8518650b-bebf-44cd-843c-23cf2eaa97d1')\"\n",
              "              title=\"Convert this dataframe to an interactive table.\"\n",
              "              style=\"display:none;\">\n",
              "        \n",
              "  <svg xmlns=\"http://www.w3.org/2000/svg\" height=\"24px\"viewBox=\"0 0 24 24\"\n",
              "       width=\"24px\">\n",
              "    <path d=\"M0 0h24v24H0V0z\" fill=\"none\"/>\n",
              "    <path d=\"M18.56 5.44l.94 2.06.94-2.06 2.06-.94-2.06-.94-.94-2.06-.94 2.06-2.06.94zm-11 1L8.5 8.5l.94-2.06 2.06-.94-2.06-.94L8.5 2.5l-.94 2.06-2.06.94zm10 10l.94 2.06.94-2.06 2.06-.94-2.06-.94-.94-2.06-.94 2.06-2.06.94z\"/><path d=\"M17.41 7.96l-1.37-1.37c-.4-.4-.92-.59-1.43-.59-.52 0-1.04.2-1.43.59L10.3 9.45l-7.72 7.72c-.78.78-.78 2.05 0 2.83L4 21.41c.39.39.9.59 1.41.59.51 0 1.02-.2 1.41-.59l7.78-7.78 2.81-2.81c.8-.78.8-2.07 0-2.86zM5.41 20L4 18.59l7.72-7.72 1.47 1.35L5.41 20z\"/>\n",
              "  </svg>\n",
              "      </button>\n",
              "      \n",
              "  <style>\n",
              "    .colab-df-container {\n",
              "      display:flex;\n",
              "      flex-wrap:wrap;\n",
              "      gap: 12px;\n",
              "    }\n",
              "\n",
              "    .colab-df-convert {\n",
              "      background-color: #E8F0FE;\n",
              "      border: none;\n",
              "      border-radius: 50%;\n",
              "      cursor: pointer;\n",
              "      display: none;\n",
              "      fill: #1967D2;\n",
              "      height: 32px;\n",
              "      padding: 0 0 0 0;\n",
              "      width: 32px;\n",
              "    }\n",
              "\n",
              "    .colab-df-convert:hover {\n",
              "      background-color: #E2EBFA;\n",
              "      box-shadow: 0px 1px 2px rgba(60, 64, 67, 0.3), 0px 1px 3px 1px rgba(60, 64, 67, 0.15);\n",
              "      fill: #174EA6;\n",
              "    }\n",
              "\n",
              "    [theme=dark] .colab-df-convert {\n",
              "      background-color: #3B4455;\n",
              "      fill: #D2E3FC;\n",
              "    }\n",
              "\n",
              "    [theme=dark] .colab-df-convert:hover {\n",
              "      background-color: #434B5C;\n",
              "      box-shadow: 0px 1px 3px 1px rgba(0, 0, 0, 0.15);\n",
              "      filter: drop-shadow(0px 1px 2px rgba(0, 0, 0, 0.3));\n",
              "      fill: #FFFFFF;\n",
              "    }\n",
              "  </style>\n",
              "\n",
              "      <script>\n",
              "        const buttonEl =\n",
              "          document.querySelector('#df-8518650b-bebf-44cd-843c-23cf2eaa97d1 button.colab-df-convert');\n",
              "        buttonEl.style.display =\n",
              "          google.colab.kernel.accessAllowed ? 'block' : 'none';\n",
              "\n",
              "        async function convertToInteractive(key) {\n",
              "          const element = document.querySelector('#df-8518650b-bebf-44cd-843c-23cf2eaa97d1');\n",
              "          const dataTable =\n",
              "            await google.colab.kernel.invokeFunction('convertToInteractive',\n",
              "                                                     [key], {});\n",
              "          if (!dataTable) return;\n",
              "\n",
              "          const docLinkHtml = 'Like what you see? Visit the ' +\n",
              "            '<a target=\"_blank\" href=https://colab.research.google.com/notebooks/data_table.ipynb>data table notebook</a>'\n",
              "            + ' to learn more about interactive tables.';\n",
              "          element.innerHTML = '';\n",
              "          dataTable['output_type'] = 'display_data';\n",
              "          await google.colab.output.renderOutput(dataTable, element);\n",
              "          const docLink = document.createElement('div');\n",
              "          docLink.innerHTML = docLinkHtml;\n",
              "          element.appendChild(docLink);\n",
              "        }\n",
              "      </script>\n",
              "    </div>\n",
              "  </div>\n",
              "  "
            ]
          },
          "metadata": {},
          "execution_count": 58
        }
      ]
    },
    {
      "cell_type": "code",
      "source": [
        "data = data.drop(labels=14406)"
      ],
      "metadata": {
        "id": "nabN6hRsRJ3M"
      },
      "execution_count": 59,
      "outputs": []
    },
    {
      "cell_type": "code",
      "source": [
        "data.info() # так и есть удалился тот самый стаффорд 2/16"
      ],
      "metadata": {
        "colab": {
          "base_uri": "https://localhost:8080/"
        },
        "id": "6OVWXAx_R8lD",
        "outputId": "aee2bd01-7419-4524-8108-9bfed0612ff4"
      },
      "execution_count": 60,
      "outputs": [
        {
          "output_type": "stream",
          "name": "stdout",
          "text": [
            "<class 'pandas.core.frame.DataFrame'>\n",
            "Int64Index: 18372 entries, 0 to 18372\n",
            "Data columns (total 22 columns):\n",
            " #   Column         Non-Null Count  Dtype  \n",
            "---  ------         --------------  -----  \n",
            " 0   Suburb         18372 non-null  object \n",
            " 1   Address        18372 non-null  object \n",
            " 2   Rooms          18372 non-null  int64  \n",
            " 3   Type           18372 non-null  object \n",
            " 4   Price          18372 non-null  float64\n",
            " 5   Method         18372 non-null  object \n",
            " 6   SellerG        18372 non-null  object \n",
            " 7   Date           18372 non-null  object \n",
            " 8   Distance       18372 non-null  float64\n",
            " 9   Postcode       18372 non-null  float64\n",
            " 10  Bedroom2       14905 non-null  float64\n",
            " 11  Bathroom       14903 non-null  float64\n",
            " 12  Car            14798 non-null  float64\n",
            " 13  Landsize       13579 non-null  float64\n",
            " 14  BuildingArea   7750 non-null   float64\n",
            " 15  YearBuilt      8944 non-null   float64\n",
            " 16  CouncilArea    18372 non-null  object \n",
            " 17  Lattitude      15041 non-null  float64\n",
            " 18  Longtitude     15041 non-null  float64\n",
            " 19  Regionname     18372 non-null  object \n",
            " 20  Propertycount  18372 non-null  float64\n",
            " 21  id             18372 non-null  int64  \n",
            "dtypes: float64(12), int64(2), object(8)\n",
            "memory usage: 3.2+ MB\n"
          ]
        }
      ]
    },
    {
      "cell_type": "code",
      "source": [
        "data = data.dropna(axis=1) # теперь удаляеи остальные nan"
      ],
      "metadata": {
        "id": "0ZPO3NqrtQAr"
      },
      "execution_count": 61,
      "outputs": []
    },
    {
      "cell_type": "code",
      "source": [
        "data.info()"
      ],
      "metadata": {
        "colab": {
          "base_uri": "https://localhost:8080/"
        },
        "id": "POevtutttkAI",
        "outputId": "7536dd0d-4a6c-4c56-c10c-b5b2250f77fa"
      },
      "execution_count": 62,
      "outputs": [
        {
          "output_type": "stream",
          "name": "stdout",
          "text": [
            "<class 'pandas.core.frame.DataFrame'>\n",
            "Int64Index: 18372 entries, 0 to 18372\n",
            "Data columns (total 14 columns):\n",
            " #   Column         Non-Null Count  Dtype  \n",
            "---  ------         --------------  -----  \n",
            " 0   Suburb         18372 non-null  object \n",
            " 1   Address        18372 non-null  object \n",
            " 2   Rooms          18372 non-null  int64  \n",
            " 3   Type           18372 non-null  object \n",
            " 4   Price          18372 non-null  float64\n",
            " 5   Method         18372 non-null  object \n",
            " 6   SellerG        18372 non-null  object \n",
            " 7   Date           18372 non-null  object \n",
            " 8   Distance       18372 non-null  float64\n",
            " 9   Postcode       18372 non-null  float64\n",
            " 10  CouncilArea    18372 non-null  object \n",
            " 11  Regionname     18372 non-null  object \n",
            " 12  Propertycount  18372 non-null  float64\n",
            " 13  id             18372 non-null  int64  \n",
            "dtypes: float64(4), int64(2), object(8)\n",
            "memory usage: 2.1+ MB\n"
          ]
        }
      ]
    },
    {
      "cell_type": "code",
      "source": [
        "data.columns"
      ],
      "metadata": {
        "colab": {
          "base_uri": "https://localhost:8080/"
        },
        "id": "AgQCyvDFaHzG",
        "outputId": "c43c6ee8-a324-4c80-fc6b-067f3ebd46ec"
      },
      "execution_count": 63,
      "outputs": [
        {
          "output_type": "execute_result",
          "data": {
            "text/plain": [
              "Index(['Suburb', 'Address', 'Rooms', 'Type', 'Price', 'Method', 'SellerG',\n",
              "       'Date', 'Distance', 'Postcode', 'CouncilArea', 'Regionname',\n",
              "       'Propertycount', 'id'],\n",
              "      dtype='object')"
            ]
          },
          "metadata": {},
          "execution_count": 63
        }
      ]
    },
    {
      "cell_type": "markdown",
      "source": [
        "# Подготовка features"
      ],
      "metadata": {
        "id": "eP601aUAj9f7"
      }
    },
    {
      "cell_type": "code",
      "source": [
        "X = list(data.columns)\n",
        "try:\n",
        "  X.remove('Date') # дата продажи не интересна для предсказандия цены, так как не проданная квартира не будет иметь даты продажи\n",
        "  #X.remove('id') # Ид объекта нам тоже не интересен\n",
        "  X.remove('Price') # это цель\n",
        "except:\n",
        "  print('Уже нет этих полей')\n",
        "\n",
        "\n",
        "y = ['Price'] # таргет\n",
        "\n",
        "cat_features = ['Suburb',  # категориальные фичи для катбуста\n",
        "                'Address', \n",
        "                'Rooms', \n",
        "                'Type', \n",
        "                'Method', \n",
        "                'SellerG',\n",
        "                'Postcode', # по сути это категориальная\n",
        "                'CouncilArea', \n",
        "                'Regionname' \n",
        "                ]\n"
      ],
      "metadata": {
        "id": "Rl2wiHHoiv4c"
      },
      "execution_count": 64,
      "outputs": []
    },
    {
      "cell_type": "code",
      "source": [
        "X # фичи"
      ],
      "metadata": {
        "colab": {
          "base_uri": "https://localhost:8080/"
        },
        "id": "DCWsjJJgkKNd",
        "outputId": "c1198e2b-f5c4-4d02-a971-37256a42ff07"
      },
      "execution_count": 65,
      "outputs": [
        {
          "output_type": "execute_result",
          "data": {
            "text/plain": [
              "['Suburb',\n",
              " 'Address',\n",
              " 'Rooms',\n",
              " 'Type',\n",
              " 'Method',\n",
              " 'SellerG',\n",
              " 'Distance',\n",
              " 'Postcode',\n",
              " 'CouncilArea',\n",
              " 'Regionname',\n",
              " 'Propertycount',\n",
              " 'id']"
            ]
          },
          "metadata": {},
          "execution_count": 65
        }
      ]
    },
    {
      "cell_type": "code",
      "source": [
        "y # таргет"
      ],
      "metadata": {
        "colab": {
          "base_uri": "https://localhost:8080/"
        },
        "id": "OwVvYVDgmRnE",
        "outputId": "cc14a021-e6ba-46fc-d9be-4ba1a09f2a48"
      },
      "execution_count": 66,
      "outputs": [
        {
          "output_type": "execute_result",
          "data": {
            "text/plain": [
              "['Price']"
            ]
          },
          "metadata": {},
          "execution_count": 66
        }
      ]
    },
    {
      "cell_type": "code",
      "source": [
        "# преобразуем Postcodе в string, иначе катбуст ругается\n",
        "\n",
        "data['Postcode'] = data['Postcode'].astype(str)"
      ],
      "metadata": {
        "id": "jVQzRqcGWS1d"
      },
      "execution_count": 67,
      "outputs": []
    },
    {
      "cell_type": "code",
      "source": [
        "model = CatBoostRegressor()\n"
      ],
      "metadata": {
        "id": "eBv-x00Wnwtb"
      },
      "execution_count": 68,
      "outputs": []
    },
    {
      "cell_type": "code",
      "source": [
        "grid = GridSearchCV(model,\n",
        "                    {\n",
        "                           'random_seed': [42], \n",
        "                           'cat_features': [cat_features], \n",
        "                           'verbose': [100]\n",
        "                     }, \n",
        "                    scoring='neg_mean_absolute_percentage_error')"
      ],
      "metadata": {
        "id": "O8zyvhfXv-TA"
      },
      "execution_count": 69,
      "outputs": []
    },
    {
      "cell_type": "code",
      "source": [
        "grid.fit(data[X], data[y])"
      ],
      "metadata": {
        "colab": {
          "base_uri": "https://localhost:8080/"
        },
        "id": "54hJHAtgo6fK",
        "outputId": "c3fa53c8-545a-4493-80db-8f2ccd285813"
      },
      "execution_count": 70,
      "outputs": [
        {
          "output_type": "stream",
          "name": "stdout",
          "text": [
            "Learning rate set to 0.062604\n",
            "0:\tlearn: 579378.3925521\ttotal: 134ms\tremaining: 2m 13s\n",
            "100:\tlearn: 309423.3732593\ttotal: 4.03s\tremaining: 35.8s\n",
            "200:\tlearn: 297581.9426487\ttotal: 7.42s\tremaining: 29.5s\n",
            "300:\tlearn: 290169.9348205\ttotal: 16.2s\tremaining: 37.6s\n",
            "400:\tlearn: 284225.0278720\ttotal: 23.4s\tremaining: 34.9s\n",
            "500:\tlearn: 278425.4497909\ttotal: 29.3s\tremaining: 29.2s\n",
            "600:\tlearn: 273435.0839175\ttotal: 32.7s\tremaining: 21.7s\n",
            "700:\tlearn: 268697.3715583\ttotal: 35.8s\tremaining: 15.3s\n",
            "800:\tlearn: 264871.4400278\ttotal: 39s\tremaining: 9.68s\n",
            "900:\tlearn: 260948.3646889\ttotal: 44.3s\tremaining: 4.86s\n",
            "999:\tlearn: 257114.8787106\ttotal: 47.4s\tremaining: 0us\n",
            "Learning rate set to 0.062604\n",
            "0:\tlearn: 598214.8584253\ttotal: 35.3ms\tremaining: 35.2s\n",
            "100:\tlearn: 316750.1389606\ttotal: 2.88s\tremaining: 25.7s\n",
            "200:\tlearn: 304746.9448679\ttotal: 5.84s\tremaining: 23.2s\n",
            "300:\tlearn: 296313.0013369\ttotal: 11.2s\tremaining: 25.9s\n",
            "400:\tlearn: 291295.2954803\ttotal: 14.2s\tremaining: 21.2s\n",
            "500:\tlearn: 285483.3961501\ttotal: 17.3s\tremaining: 17.2s\n",
            "600:\tlearn: 280644.2846692\ttotal: 20.3s\tremaining: 13.5s\n",
            "700:\tlearn: 275916.2349523\ttotal: 25.6s\tremaining: 10.9s\n",
            "800:\tlearn: 271482.7701686\ttotal: 28.7s\tremaining: 7.12s\n",
            "900:\tlearn: 267590.6760844\ttotal: 31.9s\tremaining: 3.51s\n",
            "999:\tlearn: 263783.1530415\ttotal: 35.4s\tremaining: 0us\n",
            "Learning rate set to 0.062605\n",
            "0:\tlearn: 600250.1769273\ttotal: 79.3ms\tremaining: 1m 19s\n",
            "100:\tlearn: 319728.1764526\ttotal: 4.34s\tremaining: 38.7s\n",
            "200:\tlearn: 309822.6514373\ttotal: 7.2s\tremaining: 28.6s\n",
            "300:\tlearn: 301938.6185290\ttotal: 10.1s\tremaining: 23.5s\n",
            "400:\tlearn: 295403.9911712\ttotal: 13.5s\tremaining: 20.2s\n",
            "500:\tlearn: 290177.9147855\ttotal: 18.4s\tremaining: 18.4s\n",
            "600:\tlearn: 285430.6057351\ttotal: 21.5s\tremaining: 14.3s\n",
            "700:\tlearn: 281268.7930029\ttotal: 25.7s\tremaining: 11s\n",
            "800:\tlearn: 277157.8763078\ttotal: 30.9s\tremaining: 7.69s\n",
            "900:\tlearn: 273093.6888893\ttotal: 34.3s\tremaining: 3.77s\n",
            "999:\tlearn: 269242.3066098\ttotal: 37.5s\tremaining: 0us\n",
            "Learning rate set to 0.062605\n",
            "0:\tlearn: 608239.2671775\ttotal: 34.2ms\tremaining: 34.1s\n",
            "100:\tlearn: 331860.2547284\ttotal: 2.86s\tremaining: 25.5s\n",
            "200:\tlearn: 320444.5984895\ttotal: 7.81s\tremaining: 31s\n",
            "300:\tlearn: 312945.5258206\ttotal: 10.7s\tremaining: 25s\n",
            "400:\tlearn: 307107.0860483\ttotal: 13.8s\tremaining: 20.7s\n",
            "500:\tlearn: 301892.6843175\ttotal: 17s\tremaining: 16.9s\n",
            "600:\tlearn: 297765.8315278\ttotal: 22.3s\tremaining: 14.8s\n",
            "700:\tlearn: 293386.0260653\ttotal: 25.4s\tremaining: 10.8s\n",
            "800:\tlearn: 289273.1169368\ttotal: 28.5s\tremaining: 7.08s\n",
            "900:\tlearn: 285037.4712635\ttotal: 31.6s\tremaining: 3.47s\n",
            "999:\tlearn: 281399.1594002\ttotal: 36.9s\tremaining: 0us\n",
            "Learning rate set to 0.062605\n",
            "0:\tlearn: 607937.0445251\ttotal: 34.3ms\tremaining: 34.2s\n",
            "100:\tlearn: 331835.8329810\ttotal: 2.86s\tremaining: 25.5s\n",
            "200:\tlearn: 320513.9533393\ttotal: 5.75s\tremaining: 22.8s\n",
            "300:\tlearn: 311618.6648001\ttotal: 8.76s\tremaining: 20.3s\n",
            "400:\tlearn: 305179.1270998\ttotal: 14s\tremaining: 20.9s\n",
            "500:\tlearn: 299741.1801325\ttotal: 17.1s\tremaining: 17s\n",
            "600:\tlearn: 295048.6880497\ttotal: 20.1s\tremaining: 13.3s\n",
            "700:\tlearn: 290550.0550541\ttotal: 23.3s\tremaining: 9.93s\n",
            "800:\tlearn: 287282.0906061\ttotal: 28.4s\tremaining: 7.06s\n",
            "900:\tlearn: 283091.7030804\ttotal: 31.6s\tremaining: 3.47s\n",
            "999:\tlearn: 279521.6771920\ttotal: 34.6s\tremaining: 0us\n",
            "Learning rate set to 0.064851\n",
            "0:\tlearn: 597945.0511847\ttotal: 45.6ms\tremaining: 45.6s\n",
            "100:\tlearn: 320947.0210058\ttotal: 5.16s\tremaining: 45.9s\n",
            "200:\tlearn: 310023.4638280\ttotal: 9.36s\tremaining: 37.2s\n",
            "300:\tlearn: 302612.4015620\ttotal: 13.1s\tremaining: 30.4s\n",
            "400:\tlearn: 297209.0991100\ttotal: 17.1s\tremaining: 25.6s\n",
            "500:\tlearn: 292486.2546517\ttotal: 22.8s\tremaining: 22.7s\n",
            "600:\tlearn: 287892.2838766\ttotal: 26.6s\tremaining: 17.6s\n",
            "700:\tlearn: 284011.0363655\ttotal: 30.2s\tremaining: 12.9s\n",
            "800:\tlearn: 280226.2147565\ttotal: 36.2s\tremaining: 8.99s\n",
            "900:\tlearn: 276712.5072343\ttotal: 40.2s\tremaining: 4.42s\n",
            "999:\tlearn: 273271.9779291\ttotal: 44.1s\tremaining: 0us\n"
          ]
        },
        {
          "output_type": "execute_result",
          "data": {
            "text/plain": [
              "GridSearchCV(estimator=<catboost.core.CatBoostRegressor object at 0x7ff9cc32dcd0>,\n",
              "             param_grid={'cat_features': [['Suburb', 'Address', 'Rooms', 'Type',\n",
              "                                           'Method', 'SellerG', 'Postcode',\n",
              "                                           'CouncilArea', 'Regionname']],\n",
              "                         'random_seed': [42], 'verbose': [100]},\n",
              "             scoring='neg_mean_absolute_percentage_error')"
            ]
          },
          "metadata": {},
          "execution_count": 70
        }
      ]
    },
    {
      "cell_type": "code",
      "source": [
        "grid.best_score_"
      ],
      "metadata": {
        "id": "W69-v4kEsgYf",
        "colab": {
          "base_uri": "https://localhost:8080/"
        },
        "outputId": "61b58ed8-eeba-4896-9db2-d0ae9947ef28"
      },
      "execution_count": 71,
      "outputs": [
        {
          "output_type": "execute_result",
          "data": {
            "text/plain": [
              "-0.19788254370305747"
            ]
          },
          "metadata": {},
          "execution_count": 71
        }
      ]
    },
    {
      "cell_type": "code",
      "source": [
        "data_test = pd.read_csv('/content/drive/MyDrive/DS_train/leopard_regression/test.csv')"
      ],
      "metadata": {
        "id": "fzh6Oh80zBDA"
      },
      "execution_count": 72,
      "outputs": []
    },
    {
      "cell_type": "code",
      "source": [
        "data_test2 = data_test\n"
      ],
      "metadata": {
        "id": "5xTY7U8R0bNU"
      },
      "execution_count": 73,
      "outputs": []
    },
    {
      "cell_type": "code",
      "source": [
        "data_test2.info()"
      ],
      "metadata": {
        "id": "zjAH5JV_dpgZ",
        "colab": {
          "base_uri": "https://localhost:8080/"
        },
        "outputId": "77907579-5721-41a0-b8ec-9b04f9163cd2"
      },
      "execution_count": 74,
      "outputs": [
        {
          "output_type": "stream",
          "name": "stdout",
          "text": [
            "<class 'pandas.core.frame.DataFrame'>\n",
            "RangeIndex: 8818 entries, 0 to 8817\n",
            "Data columns (total 21 columns):\n",
            " #   Column         Non-Null Count  Dtype  \n",
            "---  ------         --------------  -----  \n",
            " 0   Suburb         8818 non-null   object \n",
            " 1   Address        8818 non-null   object \n",
            " 2   Rooms          8818 non-null   int64  \n",
            " 3   Type           8818 non-null   object \n",
            " 4   Method         8818 non-null   object \n",
            " 5   SellerG        8818 non-null   object \n",
            " 6   Date           8818 non-null   object \n",
            " 7   Distance       8817 non-null   float64\n",
            " 8   Postcode       8817 non-null   float64\n",
            " 9   Bedroom2       5858 non-null   float64\n",
            " 10  Bathroom       5854 non-null   float64\n",
            " 11  Car            5582 non-null   float64\n",
            " 12  Landsize       4365 non-null   float64\n",
            " 13  BuildingArea   2882 non-null   float64\n",
            " 14  YearBuilt      3112 non-null   float64\n",
            " 15  CouncilArea    8816 non-null   object \n",
            " 16  Lattitude      5908 non-null   float64\n",
            " 17  Longtitude     5908 non-null   float64\n",
            " 18  Regionname     8816 non-null   object \n",
            " 19  Propertycount  8816 non-null   float64\n",
            " 20  id             8818 non-null   int64  \n",
            "dtypes: float64(11), int64(2), object(8)\n",
            "memory usage: 1.4+ MB\n"
          ]
        }
      ]
    },
    {
      "cell_type": "code",
      "source": [
        "data_test2[(data_test2['Distance'].isna() | data_test2['CouncilArea'].isna() | data_test2['Regionname'].isna() | data_test2['Propertycount'].isna() )]"
      ],
      "metadata": {
        "id": "1xRQsqegd4Cc",
        "colab": {
          "base_uri": "https://localhost:8080/",
          "height": 228
        },
        "outputId": "b1ebd020-49b4-4149-957d-916344c2bfad"
      },
      "execution_count": 75,
      "outputs": [
        {
          "output_type": "execute_result",
          "data": {
            "text/plain": [
              "           Suburb          Address  Rooms Type Method SellerG        Date  \\\n",
              "2634   Camberwell  2/3 Kingsley St      2    h     VB  Jellis  11/11/2017   \n",
              "4628  Fawkner Lot     1/3 Brian St      3    h     SP    Brad   6/01/2018   \n",
              "\n",
              "      Distance  Postcode  Bedroom2  Bathroom  Car  Landsize  BuildingArea  \\\n",
              "2634       7.7    3124.0       NaN       NaN  NaN       NaN           NaN   \n",
              "4628       NaN       NaN       NaN       NaN  NaN       NaN           NaN   \n",
              "\n",
              "      YearBuilt CouncilArea  Lattitude  Longtitude Regionname  Propertycount  \\\n",
              "2634        NaN         NaN        NaN         NaN        NaN            NaN   \n",
              "4628        NaN         NaN        NaN         NaN        NaN            NaN   \n",
              "\n",
              "         id  \n",
              "2634  15921  \n",
              "4628  33262  "
            ],
            "text/html": [
              "\n",
              "  <div id=\"df-8893bcd2-c266-4e12-9300-5551bb2a2c88\">\n",
              "    <div class=\"colab-df-container\">\n",
              "      <div>\n",
              "<style scoped>\n",
              "    .dataframe tbody tr th:only-of-type {\n",
              "        vertical-align: middle;\n",
              "    }\n",
              "\n",
              "    .dataframe tbody tr th {\n",
              "        vertical-align: top;\n",
              "    }\n",
              "\n",
              "    .dataframe thead th {\n",
              "        text-align: right;\n",
              "    }\n",
              "</style>\n",
              "<table border=\"1\" class=\"dataframe\">\n",
              "  <thead>\n",
              "    <tr style=\"text-align: right;\">\n",
              "      <th></th>\n",
              "      <th>Suburb</th>\n",
              "      <th>Address</th>\n",
              "      <th>Rooms</th>\n",
              "      <th>Type</th>\n",
              "      <th>Method</th>\n",
              "      <th>SellerG</th>\n",
              "      <th>Date</th>\n",
              "      <th>Distance</th>\n",
              "      <th>Postcode</th>\n",
              "      <th>Bedroom2</th>\n",
              "      <th>Bathroom</th>\n",
              "      <th>Car</th>\n",
              "      <th>Landsize</th>\n",
              "      <th>BuildingArea</th>\n",
              "      <th>YearBuilt</th>\n",
              "      <th>CouncilArea</th>\n",
              "      <th>Lattitude</th>\n",
              "      <th>Longtitude</th>\n",
              "      <th>Regionname</th>\n",
              "      <th>Propertycount</th>\n",
              "      <th>id</th>\n",
              "    </tr>\n",
              "  </thead>\n",
              "  <tbody>\n",
              "    <tr>\n",
              "      <th>2634</th>\n",
              "      <td>Camberwell</td>\n",
              "      <td>2/3 Kingsley St</td>\n",
              "      <td>2</td>\n",
              "      <td>h</td>\n",
              "      <td>VB</td>\n",
              "      <td>Jellis</td>\n",
              "      <td>11/11/2017</td>\n",
              "      <td>7.7</td>\n",
              "      <td>3124.0</td>\n",
              "      <td>NaN</td>\n",
              "      <td>NaN</td>\n",
              "      <td>NaN</td>\n",
              "      <td>NaN</td>\n",
              "      <td>NaN</td>\n",
              "      <td>NaN</td>\n",
              "      <td>NaN</td>\n",
              "      <td>NaN</td>\n",
              "      <td>NaN</td>\n",
              "      <td>NaN</td>\n",
              "      <td>NaN</td>\n",
              "      <td>15921</td>\n",
              "    </tr>\n",
              "    <tr>\n",
              "      <th>4628</th>\n",
              "      <td>Fawkner Lot</td>\n",
              "      <td>1/3 Brian St</td>\n",
              "      <td>3</td>\n",
              "      <td>h</td>\n",
              "      <td>SP</td>\n",
              "      <td>Brad</td>\n",
              "      <td>6/01/2018</td>\n",
              "      <td>NaN</td>\n",
              "      <td>NaN</td>\n",
              "      <td>NaN</td>\n",
              "      <td>NaN</td>\n",
              "      <td>NaN</td>\n",
              "      <td>NaN</td>\n",
              "      <td>NaN</td>\n",
              "      <td>NaN</td>\n",
              "      <td>NaN</td>\n",
              "      <td>NaN</td>\n",
              "      <td>NaN</td>\n",
              "      <td>NaN</td>\n",
              "      <td>NaN</td>\n",
              "      <td>33262</td>\n",
              "    </tr>\n",
              "  </tbody>\n",
              "</table>\n",
              "</div>\n",
              "      <button class=\"colab-df-convert\" onclick=\"convertToInteractive('df-8893bcd2-c266-4e12-9300-5551bb2a2c88')\"\n",
              "              title=\"Convert this dataframe to an interactive table.\"\n",
              "              style=\"display:none;\">\n",
              "        \n",
              "  <svg xmlns=\"http://www.w3.org/2000/svg\" height=\"24px\"viewBox=\"0 0 24 24\"\n",
              "       width=\"24px\">\n",
              "    <path d=\"M0 0h24v24H0V0z\" fill=\"none\"/>\n",
              "    <path d=\"M18.56 5.44l.94 2.06.94-2.06 2.06-.94-2.06-.94-.94-2.06-.94 2.06-2.06.94zm-11 1L8.5 8.5l.94-2.06 2.06-.94-2.06-.94L8.5 2.5l-.94 2.06-2.06.94zm10 10l.94 2.06.94-2.06 2.06-.94-2.06-.94-.94-2.06-.94 2.06-2.06.94z\"/><path d=\"M17.41 7.96l-1.37-1.37c-.4-.4-.92-.59-1.43-.59-.52 0-1.04.2-1.43.59L10.3 9.45l-7.72 7.72c-.78.78-.78 2.05 0 2.83L4 21.41c.39.39.9.59 1.41.59.51 0 1.02-.2 1.41-.59l7.78-7.78 2.81-2.81c.8-.78.8-2.07 0-2.86zM5.41 20L4 18.59l7.72-7.72 1.47 1.35L5.41 20z\"/>\n",
              "  </svg>\n",
              "      </button>\n",
              "      \n",
              "  <style>\n",
              "    .colab-df-container {\n",
              "      display:flex;\n",
              "      flex-wrap:wrap;\n",
              "      gap: 12px;\n",
              "    }\n",
              "\n",
              "    .colab-df-convert {\n",
              "      background-color: #E8F0FE;\n",
              "      border: none;\n",
              "      border-radius: 50%;\n",
              "      cursor: pointer;\n",
              "      display: none;\n",
              "      fill: #1967D2;\n",
              "      height: 32px;\n",
              "      padding: 0 0 0 0;\n",
              "      width: 32px;\n",
              "    }\n",
              "\n",
              "    .colab-df-convert:hover {\n",
              "      background-color: #E2EBFA;\n",
              "      box-shadow: 0px 1px 2px rgba(60, 64, 67, 0.3), 0px 1px 3px 1px rgba(60, 64, 67, 0.15);\n",
              "      fill: #174EA6;\n",
              "    }\n",
              "\n",
              "    [theme=dark] .colab-df-convert {\n",
              "      background-color: #3B4455;\n",
              "      fill: #D2E3FC;\n",
              "    }\n",
              "\n",
              "    [theme=dark] .colab-df-convert:hover {\n",
              "      background-color: #434B5C;\n",
              "      box-shadow: 0px 1px 3px 1px rgba(0, 0, 0, 0.15);\n",
              "      filter: drop-shadow(0px 1px 2px rgba(0, 0, 0, 0.3));\n",
              "      fill: #FFFFFF;\n",
              "    }\n",
              "  </style>\n",
              "\n",
              "      <script>\n",
              "        const buttonEl =\n",
              "          document.querySelector('#df-8893bcd2-c266-4e12-9300-5551bb2a2c88 button.colab-df-convert');\n",
              "        buttonEl.style.display =\n",
              "          google.colab.kernel.accessAllowed ? 'block' : 'none';\n",
              "\n",
              "        async function convertToInteractive(key) {\n",
              "          const element = document.querySelector('#df-8893bcd2-c266-4e12-9300-5551bb2a2c88');\n",
              "          const dataTable =\n",
              "            await google.colab.kernel.invokeFunction('convertToInteractive',\n",
              "                                                     [key], {});\n",
              "          if (!dataTable) return;\n",
              "\n",
              "          const docLinkHtml = 'Like what you see? Visit the ' +\n",
              "            '<a target=\"_blank\" href=https://colab.research.google.com/notebooks/data_table.ipynb>data table notebook</a>'\n",
              "            + ' to learn more about interactive tables.';\n",
              "          element.innerHTML = '';\n",
              "          dataTable['output_type'] = 'display_data';\n",
              "          await google.colab.output.renderOutput(dataTable, element);\n",
              "          const docLink = document.createElement('div');\n",
              "          docLink.innerHTML = docLinkHtml;\n",
              "          element.appendChild(docLink);\n",
              "        }\n",
              "      </script>\n",
              "    </div>\n",
              "  </div>\n",
              "  "
            ]
          },
          "metadata": {},
          "execution_count": 75
        }
      ]
    },
    {
      "cell_type": "code",
      "source": [
        "data_test2.fillna(0, inplace=True)\n",
        "data_test2['Postcode'] = data_test2['Postcode'].astype(str)\n"
      ],
      "metadata": {
        "id": "Fj_pZc-vgLRn"
      },
      "execution_count": 76,
      "outputs": []
    },
    {
      "cell_type": "code",
      "source": [
        "data_test2.info()"
      ],
      "metadata": {
        "id": "c2-s2YKxgVLH",
        "colab": {
          "base_uri": "https://localhost:8080/"
        },
        "outputId": "af3e0dc0-c57d-456e-9d1a-1702ef3ded1e"
      },
      "execution_count": 77,
      "outputs": [
        {
          "output_type": "stream",
          "name": "stdout",
          "text": [
            "<class 'pandas.core.frame.DataFrame'>\n",
            "RangeIndex: 8818 entries, 0 to 8817\n",
            "Data columns (total 21 columns):\n",
            " #   Column         Non-Null Count  Dtype  \n",
            "---  ------         --------------  -----  \n",
            " 0   Suburb         8818 non-null   object \n",
            " 1   Address        8818 non-null   object \n",
            " 2   Rooms          8818 non-null   int64  \n",
            " 3   Type           8818 non-null   object \n",
            " 4   Method         8818 non-null   object \n",
            " 5   SellerG        8818 non-null   object \n",
            " 6   Date           8818 non-null   object \n",
            " 7   Distance       8818 non-null   float64\n",
            " 8   Postcode       8818 non-null   object \n",
            " 9   Bedroom2       8818 non-null   float64\n",
            " 10  Bathroom       8818 non-null   float64\n",
            " 11  Car            8818 non-null   float64\n",
            " 12  Landsize       8818 non-null   float64\n",
            " 13  BuildingArea   8818 non-null   float64\n",
            " 14  YearBuilt      8818 non-null   float64\n",
            " 15  CouncilArea    8818 non-null   object \n",
            " 16  Lattitude      8818 non-null   float64\n",
            " 17  Longtitude     8818 non-null   float64\n",
            " 18  Regionname     8818 non-null   object \n",
            " 19  Propertycount  8818 non-null   float64\n",
            " 20  id             8818 non-null   int64  \n",
            "dtypes: float64(10), int64(2), object(9)\n",
            "memory usage: 1.4+ MB\n"
          ]
        }
      ]
    },
    {
      "cell_type": "code",
      "source": [
        "data_out = grid.predict(data_test2[X])"
      ],
      "metadata": {
        "id": "VbozWl1IzoWD"
      },
      "execution_count": 78,
      "outputs": []
    },
    {
      "cell_type": "code",
      "source": [
        "data_out"
      ],
      "metadata": {
        "id": "F2lYZW48dAPe",
        "colab": {
          "base_uri": "https://localhost:8080/"
        },
        "outputId": "d7c5d13a-7845-4ec3-ce79-2253303045ae"
      },
      "execution_count": 93,
      "outputs": [
        {
          "output_type": "execute_result",
          "data": {
            "text/plain": [
              "array([ 915284.28911414, 1501775.84667946, 1448946.04164472, ...,\n",
              "        637276.07002594, 1045325.68700179,  760612.85929821])"
            ]
          },
          "metadata": {},
          "execution_count": 93
        }
      ]
    },
    {
      "cell_type": "code",
      "source": [
        "data_test2['id'].values"
      ],
      "metadata": {
        "colab": {
          "base_uri": "https://localhost:8080/"
        },
        "id": "2Kh5MEMFp4uI",
        "outputId": "62ba43ed-9822-42bd-9e07-f894a69fa5bc"
      },
      "execution_count": 96,
      "outputs": [
        {
          "output_type": "execute_result",
          "data": {
            "text/plain": [
              "array([30130, 18311, 18934, ...,  2209, 23872,  8572])"
            ]
          },
          "metadata": {},
          "execution_count": 96
        }
      ]
    },
    {
      "cell_type": "code",
      "source": [
        "d = pd.DataFrame(data={'id': data_test2['id'].values, 'Price': data_out})"
      ],
      "metadata": {
        "id": "ZPoOg08WhnBJ"
      },
      "execution_count": 101,
      "outputs": []
    },
    {
      "cell_type": "code",
      "source": [
        "d.head()"
      ],
      "metadata": {
        "colab": {
          "base_uri": "https://localhost:8080/",
          "height": 206
        },
        "id": "vdDR6X_8mHB0",
        "outputId": "59eb4c8c-dbc8-4f23-a2ac-cb792bbd9c67"
      },
      "execution_count": 105,
      "outputs": [
        {
          "output_type": "execute_result",
          "data": {
            "text/plain": [
              "      id         Price\n",
              "0  30130  9.152843e+05\n",
              "1  18311  1.501776e+06\n",
              "2  18934  1.448946e+06\n",
              "3   1824  8.487015e+05\n",
              "4  31339  8.731584e+05"
            ],
            "text/html": [
              "\n",
              "  <div id=\"df-104f3898-746b-4a86-b95d-49f8955078a3\">\n",
              "    <div class=\"colab-df-container\">\n",
              "      <div>\n",
              "<style scoped>\n",
              "    .dataframe tbody tr th:only-of-type {\n",
              "        vertical-align: middle;\n",
              "    }\n",
              "\n",
              "    .dataframe tbody tr th {\n",
              "        vertical-align: top;\n",
              "    }\n",
              "\n",
              "    .dataframe thead th {\n",
              "        text-align: right;\n",
              "    }\n",
              "</style>\n",
              "<table border=\"1\" class=\"dataframe\">\n",
              "  <thead>\n",
              "    <tr style=\"text-align: right;\">\n",
              "      <th></th>\n",
              "      <th>id</th>\n",
              "      <th>Price</th>\n",
              "    </tr>\n",
              "  </thead>\n",
              "  <tbody>\n",
              "    <tr>\n",
              "      <th>0</th>\n",
              "      <td>30130</td>\n",
              "      <td>9.152843e+05</td>\n",
              "    </tr>\n",
              "    <tr>\n",
              "      <th>1</th>\n",
              "      <td>18311</td>\n",
              "      <td>1.501776e+06</td>\n",
              "    </tr>\n",
              "    <tr>\n",
              "      <th>2</th>\n",
              "      <td>18934</td>\n",
              "      <td>1.448946e+06</td>\n",
              "    </tr>\n",
              "    <tr>\n",
              "      <th>3</th>\n",
              "      <td>1824</td>\n",
              "      <td>8.487015e+05</td>\n",
              "    </tr>\n",
              "    <tr>\n",
              "      <th>4</th>\n",
              "      <td>31339</td>\n",
              "      <td>8.731584e+05</td>\n",
              "    </tr>\n",
              "  </tbody>\n",
              "</table>\n",
              "</div>\n",
              "      <button class=\"colab-df-convert\" onclick=\"convertToInteractive('df-104f3898-746b-4a86-b95d-49f8955078a3')\"\n",
              "              title=\"Convert this dataframe to an interactive table.\"\n",
              "              style=\"display:none;\">\n",
              "        \n",
              "  <svg xmlns=\"http://www.w3.org/2000/svg\" height=\"24px\"viewBox=\"0 0 24 24\"\n",
              "       width=\"24px\">\n",
              "    <path d=\"M0 0h24v24H0V0z\" fill=\"none\"/>\n",
              "    <path d=\"M18.56 5.44l.94 2.06.94-2.06 2.06-.94-2.06-.94-.94-2.06-.94 2.06-2.06.94zm-11 1L8.5 8.5l.94-2.06 2.06-.94-2.06-.94L8.5 2.5l-.94 2.06-2.06.94zm10 10l.94 2.06.94-2.06 2.06-.94-2.06-.94-.94-2.06-.94 2.06-2.06.94z\"/><path d=\"M17.41 7.96l-1.37-1.37c-.4-.4-.92-.59-1.43-.59-.52 0-1.04.2-1.43.59L10.3 9.45l-7.72 7.72c-.78.78-.78 2.05 0 2.83L4 21.41c.39.39.9.59 1.41.59.51 0 1.02-.2 1.41-.59l7.78-7.78 2.81-2.81c.8-.78.8-2.07 0-2.86zM5.41 20L4 18.59l7.72-7.72 1.47 1.35L5.41 20z\"/>\n",
              "  </svg>\n",
              "      </button>\n",
              "      \n",
              "  <style>\n",
              "    .colab-df-container {\n",
              "      display:flex;\n",
              "      flex-wrap:wrap;\n",
              "      gap: 12px;\n",
              "    }\n",
              "\n",
              "    .colab-df-convert {\n",
              "      background-color: #E8F0FE;\n",
              "      border: none;\n",
              "      border-radius: 50%;\n",
              "      cursor: pointer;\n",
              "      display: none;\n",
              "      fill: #1967D2;\n",
              "      height: 32px;\n",
              "      padding: 0 0 0 0;\n",
              "      width: 32px;\n",
              "    }\n",
              "\n",
              "    .colab-df-convert:hover {\n",
              "      background-color: #E2EBFA;\n",
              "      box-shadow: 0px 1px 2px rgba(60, 64, 67, 0.3), 0px 1px 3px 1px rgba(60, 64, 67, 0.15);\n",
              "      fill: #174EA6;\n",
              "    }\n",
              "\n",
              "    [theme=dark] .colab-df-convert {\n",
              "      background-color: #3B4455;\n",
              "      fill: #D2E3FC;\n",
              "    }\n",
              "\n",
              "    [theme=dark] .colab-df-convert:hover {\n",
              "      background-color: #434B5C;\n",
              "      box-shadow: 0px 1px 3px 1px rgba(0, 0, 0, 0.15);\n",
              "      filter: drop-shadow(0px 1px 2px rgba(0, 0, 0, 0.3));\n",
              "      fill: #FFFFFF;\n",
              "    }\n",
              "  </style>\n",
              "\n",
              "      <script>\n",
              "        const buttonEl =\n",
              "          document.querySelector('#df-104f3898-746b-4a86-b95d-49f8955078a3 button.colab-df-convert');\n",
              "        buttonEl.style.display =\n",
              "          google.colab.kernel.accessAllowed ? 'block' : 'none';\n",
              "\n",
              "        async function convertToInteractive(key) {\n",
              "          const element = document.querySelector('#df-104f3898-746b-4a86-b95d-49f8955078a3');\n",
              "          const dataTable =\n",
              "            await google.colab.kernel.invokeFunction('convertToInteractive',\n",
              "                                                     [key], {});\n",
              "          if (!dataTable) return;\n",
              "\n",
              "          const docLinkHtml = 'Like what you see? Visit the ' +\n",
              "            '<a target=\"_blank\" href=https://colab.research.google.com/notebooks/data_table.ipynb>data table notebook</a>'\n",
              "            + ' to learn more about interactive tables.';\n",
              "          element.innerHTML = '';\n",
              "          dataTable['output_type'] = 'display_data';\n",
              "          await google.colab.output.renderOutput(dataTable, element);\n",
              "          const docLink = document.createElement('div');\n",
              "          docLink.innerHTML = docLinkHtml;\n",
              "          element.appendChild(docLink);\n",
              "        }\n",
              "      </script>\n",
              "    </div>\n",
              "  </div>\n",
              "  "
            ]
          },
          "metadata": {},
          "execution_count": 105
        }
      ]
    },
    {
      "cell_type": "code",
      "source": [
        "d.to_csv('/content/drive/MyDrive/DS_train/leopard_regression/submission.csv', index=False)  "
      ],
      "metadata": {
        "id": "Ikdq2FM7mH65"
      },
      "execution_count": 106,
      "outputs": []
    },
    {
      "cell_type": "code",
      "source": [],
      "metadata": {
        "id": "5mzvhtzXmX6f"
      },
      "execution_count": null,
      "outputs": []
    }
  ]
}